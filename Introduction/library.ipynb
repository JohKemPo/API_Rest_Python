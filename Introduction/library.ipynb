{
 "cells": [
  {
   "cell_type": "markdown",
   "metadata": {},
   "source": [
    "### Criando uma Aplicações Flask Básica"
   ]
  },
  {
   "cell_type": "code",
   "execution_count": null,
   "metadata": {},
   "outputs": [],
   "source": [
    "from flask import Flask\n",
    "\n",
    "app = Flask(__name__)\n",
    "\n",
    "@app.route('/')\n",
    "def hello():\n",
    "    return \"Olá, Flask!\"\n",
    "\n",
    "if __name__ == '__main__':\n",
    "    app.run(debug=True,  use_reloader=False)"
   ]
  },
  {
   "cell_type": "markdown",
   "metadata": {},
   "source": [
    "### Endpoints de CRUD"
   ]
  },
  {
   "cell_type": "code",
   "execution_count": null,
   "metadata": {},
   "outputs": [],
   "source": [
    "from flask import Flask, request, jsonify\n",
    "\n",
    "app = Flask(__name__)\n",
    "\n",
    "tasks = []\n",
    "\n",
    "# Criação de tarefa\n",
    "@app.route('/tasks', methods=['POST'])\n",
    "def create_task():\n",
    "    new_task = request.json\n",
    "    tasks.append(new_task)\n",
    "    return jsonify({\"message\": \"Task created successfully\"})\n",
    "\n",
    "# Listagem de todas as tarefas\n",
    "@app.route('/tasks', methods=['GET'])\n",
    "def get_tasks():\n",
    "    return jsonify(tasks)\n",
    "\n",
    "# Leitura de tarefa por ID\n",
    "@app.route('/tasks/<int:task_id>', methods=['GET'])\n",
    "def get_task(task_id):\n",
    "    if task_id < len(tasks):\n",
    "        return jsonify(tasks[task_id])\n",
    "    return jsonify({\"message\": \"Task not found\"}), 404\n",
    "\n",
    "# Atualização de tarefa por ID\n",
    "@app.route('/tasks/<int:task_id>', methods=['PUT'])\n",
    "def update_task(task_id):\n",
    "    if task_id < len(tasks):\n",
    "        updated_task = request.json\n",
    "        tasks[task_id] = updated_task\n",
    "        return jsonify({\"message\": \"Task updated successfully\"})\n",
    "    return jsonify({\"message\": \"Task not found\"}), 404\n",
    "\n",
    "# Exclusão de tarefa por ID\n",
    "@app.route('/tasks/<int:task_id>', methods=['DELETE'])\n",
    "def delete_task(task_id):\n",
    "    if task_id < len(tasks):\n",
    "        tasks.pop(task_id)\n",
    "        return jsonify({\"message\": \"Task deleted successfully\"})\n",
    "    return jsonify({\"message\": \"Task not found\"}), 404\n",
    "\n",
    "if __name__ == '__main__':\n",
    "    app.run(debug=True,  use_reloader=False)"
   ]
  },
  {
   "cell_type": "markdown",
   "metadata": {},
   "source": [
    "### Upload e Download de Arquivos"
   ]
  },
  {
   "cell_type": "code",
   "execution_count": null,
   "metadata": {},
   "outputs": [],
   "source": [
    "from flask import Flask, request, send_from_directory\n",
    "import os\n",
    "\n",
    "app = Flask(__name__)\n",
    "\n",
    "app.config['UPLOAD_FOLDER'] = 'uploads'\n",
    "\n",
    "if not os.path.exists(app.config['UPLOAD_FOLDER']):\n",
    "    os.makedirs(app.config['UPLOAD_FOLDER'])\n",
    "\n",
    "@app.route('/upload', methods=['POST'])\n",
    "def upload_file():\n",
    "    if 'file' not in request.files:\n",
    "        return jsonify({\"message\": \"No file part\"})\n",
    "    \n",
    "    file = request.files['file']\n",
    "    \n",
    "    if file.filename == '':\n",
    "        return jsonify({\"message\": \"No selected file\"})\n",
    "    \n",
    "    file.save(os.path.join(app.config['UPLOAD_FOLDER'], file.filename))\n",
    "    return jsonify({\"message\": \"File uploaded successfully\"})\n",
    "\n",
    "@app.route('/uploads/<filename>')\n",
    "def download_file(filename):\n",
    "    return send_from_directory(app.config['UPLOAD_FOLDER'], filename)\n",
    "\n",
    "if __name__ == '__main__':\n",
    "    app.run(debug=True,  use_reloader=False)"
   ]
  },
  {
   "cell_type": "markdown",
   "metadata": {},
   "source": [
    "### Decorators e Wrappers"
   ]
  },
  {
   "cell_type": "code",
   "execution_count": null,
   "metadata": {},
   "outputs": [],
   "source": [
    "from flask import Flask, request, jsonify\n",
    "\n",
    "app = Flask(__name__)\n",
    "\n",
    "def requires_auth(func):\n",
    "    def wrapper(*args, **kwargs):\n",
    "        auth_token = request.headers.get('Authorization')\n",
    "        if auth_token == 'mysecrettoken':\n",
    "            return func(*args, **kwargs)\n",
    "        else:\n",
    "            return jsonify({\"message\": \"Authentication failed\"}), 401\n",
    "    return wrapper\n",
    "\n",
    "@app.route('/protected')\n",
    "@requires_auth\n",
    "def protected_route():\n",
    "    return jsonify({\"message\": \"This is a protected route\"})\n",
    "\n",
    "if __name__ == '__main__':\n",
    "    app.run(debug=True,  use_reloader=False)"
   ]
  },
  {
   "cell_type": "markdown",
   "metadata": {},
   "source": [
    "### Decorators"
   ]
  },
  {
   "cell_type": "code",
   "execution_count": null,
   "metadata": {},
   "outputs": [],
   "source": [
    "from flask import Flask\n",
    "\n",
    "app = Flask(__name__)\n",
    "\n",
    "def my_decorator(func):\n",
    "    def wrapper():\n",
    "        print(\"Something is happening before the function is called.\")\n",
    "        func()\n",
    "        print(\"Something is happening after the function is called.\")\n",
    "    return wrapper\n",
    "\n",
    "@app.route('/')\n",
    "@my_decorator\n",
    "def hello():\n",
    "    return \"Hello, Flask!\"\n",
    "\n",
    "if __name__ == '__main__':\n",
    "    app.run(debug=True,  use_reloader=False)"
   ]
  },
  {
   "cell_type": "markdown",
   "metadata": {},
   "source": [
    "### Wrappers"
   ]
  },
  {
   "cell_type": "code",
   "execution_count": null,
   "metadata": {},
   "outputs": [],
   "source": [
    "from functools import wraps\n",
    "from flask import Flask, request, jsonify\n",
    "\n",
    "app = Flask(__name__)\n",
    "\n",
    "def requires_auth(func):\n",
    "    @wraps(func)\n",
    "    def wrapper(*args, **kwargs):\n",
    "        auth_token = request.headers.get('Authorization')\n",
    "        if auth_token == 'mysecrettoken':\n",
    "            return func(*args, **kwargs)\n",
    "        else:\n",
    "            return jsonify({\"message\": \"Authentication failed\"}), 401\n",
    "    return wrapper\n",
    "\n",
    "@app.route('/protected')\n",
    "@requires_auth\n",
    "def protected_route():\n",
    "    return jsonify({\"message\": \"This is a protected route\"})\n",
    "\n",
    "if __name__ == '__main__':\n",
    "    app.run(debug=True,  use_reloader=False)"
   ]
  }
 ],
 "metadata": {
  "kernelspec": {
   "display_name": "Python 3",
   "language": "python",
   "name": "python3"
  },
  "language_info": {
   "codemirror_mode": {
    "name": "ipython",
    "version": 3
   },
   "file_extension": ".py",
   "mimetype": "text/x-python",
   "name": "python",
   "nbconvert_exporter": "python",
   "pygments_lexer": "ipython3",
   "version": "3.10.8"
  },
  "orig_nbformat": 4
 },
 "nbformat": 4,
 "nbformat_minor": 2
}
